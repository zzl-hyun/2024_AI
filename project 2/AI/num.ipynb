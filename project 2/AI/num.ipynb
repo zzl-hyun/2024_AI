{
 "cells": [
  {
   "cell_type": "code",
   "execution_count": 1,
   "metadata": {},
   "outputs": [],
   "source": [
    "import numpy as np"
   ]
  },
  {
   "cell_type": "code",
   "execution_count": 2,
   "metadata": {},
   "outputs": [
    {
     "name": "stdout",
     "output_type": "stream",
     "text": [
      "32\n"
     ]
    }
   ],
   "source": [
    "a = np.array([1, 2, 3])\n",
    "b = np.array([4, 5, 6])\n",
    "\n",
    "# 두 벡터의 내적\n",
    "print(np.dot(a, b))"
   ]
  },
  {
   "cell_type": "code",
   "execution_count": 3,
   "metadata": {},
   "outputs": [
    {
     "name": "stdout",
     "output_type": "stream",
     "text": [
      "[[19 22]\n",
      " [43 50]]\n"
     ]
    }
   ],
   "source": [
    "A = np.array([[1, 2], [3, 4]])\n",
    "B = np.array([[5, 6], [7, 8]])\n",
    "\n",
    "# 행렬의 곱\n",
    "print(np.dot(A, B))"
   ]
  },
  {
   "cell_type": "code",
   "execution_count": 1,
   "metadata": {},
   "outputs": [],
   "source": [
    "import numpy as np"
   ]
  },
  {
   "cell_type": "code",
   "execution_count": 14,
   "metadata": {},
   "outputs": [
    {
     "name": "stdout",
     "output_type": "stream",
     "text": [
      "[[ -3   9  -2]\n",
      " [  5  -1   9]\n",
      " [ -8   3 -10]]\n"
     ]
    }
   ],
   "source": [
    "print(np.array(np.random.randint(-10, 10, 9).reshape(3, 3)))"
   ]
  },
  {
   "cell_type": "code",
   "execution_count": 26,
   "metadata": {},
   "outputs": [
    {
     "name": "stdout",
     "output_type": "stream",
     "text": [
      "선형 방정식의 근사해 x: [[-0.03666293]\n",
      " [-0.70520015]]\n"
     ]
    }
   ],
   "source": [
    "import numpy as np\n",
    "\n",
    "def leastsSquareSolve(A, b):\n",
    "\n",
    "    pseudoInv = np.linalg.pinv(A)\n",
    "    x = np.dot(pseudoInv, b) \n",
    "    return x\n",
    "\n",
    "def main():\n",
    "\n",
    "    A = np.array(np.random.randint(-10, 10, 6).reshape(3, 2))\n",
    "    b = np.array(np.random.randint(-10, 10, 3).reshape(3, 1))\n",
    "\n",
    "    \n",
    "    x = leastsSquareSolve(A, b)\n",
    "    print(\"선형 방정식의 근사해 x:\", x)\n",
    "\n",
    "\n",
    "if __name__ == \"__main__\":\n",
    "    main()\n"
   ]
  },
  {
   "cell_type": "code",
   "execution_count": null,
   "metadata": {},
   "outputs": [],
   "source": []
  }
 ],
 "metadata": {
  "kernelspec": {
   "display_name": "Python 3",
   "language": "python",
   "name": "python3"
  },
  "language_info": {
   "codemirror_mode": {
    "name": "ipython",
    "version": 3
   },
   "file_extension": ".py",
   "mimetype": "text/x-python",
   "name": "python",
   "nbconvert_exporter": "python",
   "pygments_lexer": "ipython3",
   "version": "3.11.5"
  }
 },
 "nbformat": 4,
 "nbformat_minor": 2
}
